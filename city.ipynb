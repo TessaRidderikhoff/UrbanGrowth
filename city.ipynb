{
 "cells": [
  {
   "cell_type": "code",
   "execution_count": 1,
   "metadata": {},
   "outputs": [],
   "source": [
    "%load_ext Cython"
   ]
  },
  {
   "cell_type": "code",
   "execution_count": 128,
   "metadata": {},
   "outputs": [],
   "source": [
    "import numpy as np\n",
    "import matplotlib.pyplot as plt\n",
    "import random\n",
    "import copy"
   ]
  },
  {
   "cell_type": "code",
   "execution_count": 171,
   "metadata": {},
   "outputs": [],
   "source": [
    "def plot_city(matrix):\n",
    "    \n",
    "    plt.matshow(matrix, vmin = 0, vmax = 1, cmap = 'Greys')\n",
    "#     plt.show()"
   ]
  },
  {
   "cell_type": "code",
   "execution_count": 70,
   "metadata": {},
   "outputs": [],
   "source": [
    "def count_neighbours(grid, row, col):\n",
    "    count = 0\n",
    "    for x, y in (\n",
    "            (row - 1, col), (row + 1, col), (row, col - 1),\n",
    "            (row, col + 1), (row - 1, col - 1), (row - 1, col + 1),\n",
    "            (row + 1, col - 1), (row + 1, col + 1)):\n",
    "        if not (0 <= x < len(grid) and 0 <= y < len(grid[x])):\n",
    "            # out of bounds\n",
    "            continue\n",
    "        if grid[x][y] == 1:\n",
    "            count += 1\n",
    "    return count"
   ]
  },
  {
   "cell_type": "code",
   "execution_count": 165,
   "metadata": {},
   "outputs": [],
   "source": [
    "def timestep(matrix):\n",
    "    \n",
    "    next_matrix = copy.deepcopy(matrix)\n",
    "    \n",
    "    for i in range(len(matrix)):\n",
    "        for j in range(len(matrix[0])):\n",
    "            neighbours_count = count_neighbours(matrix, i, j)\n",
    "            prob_urban = neighbours_count/9\n",
    "            \n",
    "            if random.random() < prob_urban:\n",
    "                next_matrix[i, j] = 1\n",
    "                \n",
    "    return next_matrix"
   ]
  },
  {
   "cell_type": "code",
   "execution_count": 184,
   "metadata": {},
   "outputs": [
    {
     "data": {
      "image/png": "[encoded data removed]",
      "text/plain": [
       "<Figure size 432x288 with 20 Axes>"
      ]
     },
     "metadata": {
      "needs_background": "light"
     },
     "output_type": "display_data"
    }
   ],
   "source": [
    "city = np.zeros((50, 50))\n",
    "\n",
    "steps = 20\n",
    "\n",
    "# initial house\n",
    "city[25, 25] = 1\n",
    "\n",
    "for i in range(steps):\n",
    "    city = timestep(city)\n",
    "    plt.subplot(4, 5, i + 1)\n",
    "    fig = plt.imshow(city, vmin = 0, vmax = 1, cmap = 'Greys')\n",
    "    fig.axes.get_xaxis().set_visible(False)\n",
    "    fig.axes.get_yaxis().set_visible(False)\n",
    "\n",
    "plt.show()"
   ]
  }
 ],
 "metadata": {
  "kernelspec": {
   "display_name": "Python 3",
   "language": "python",
   "name": "python3"
  },
  "language_info": {
   "codemirror_mode": {
    "name": "ipython",
    "version": 3
   },
   "file_extension": ".py",
   "mimetype": "text/x-python",
   "name": "python",
   "nbconvert_exporter": "python",
   "pygments_lexer": "ipython3",
   "version": "3.7.1"
  }
 },
 "nbformat": 4,
 "nbformat_minor": 2
}
