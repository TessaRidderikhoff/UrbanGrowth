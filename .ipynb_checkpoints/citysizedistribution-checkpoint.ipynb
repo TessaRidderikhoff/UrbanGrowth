{
 "cells": [
  {
   "cell_type": "code",
   "execution_count": 6,
   "metadata": {},
   "outputs": [],
   "source": [
    "import numpy as np\n",
    "import matplotlib.pyplot as plt\n",
    "import random\n",
    "import copy\n",
    "from statistics import mean\n",
    "from scipy import stats\n",
    "from scipy.ndimage import measurements"
   ]
  },
  {
   "cell_type": "code",
   "execution_count": 2,
   "metadata": {},
   "outputs": [],
   "source": [
    "def loop_grid(matrix, mkd, a, width, height, neighbours):\n",
    "    \n",
    "    # protential grid\n",
    "    transH = np.ones((width, height))\n",
    "    transI = np.ones((width, height))\n",
    "    transC = np.ones((width, height))\n",
    "    \n",
    "    list_distances = [1, 1.4, 2, 2.2, 2.8, 3, 3.2, 3.6, 4, 4.1, 4.2, 4.5, 5, 5.1, 5.4, 5.7, 5.8, 6, 6.1, 6.3, 6.4, 6.7, 7.1, 7.2, 7.8, 8.5]\n",
    "    \n",
    "    #i,j current house grid\n",
    "    for i in range(len(matrix)):\n",
    "        for j in range(len(matrix[0])):\n",
    "            # k,l is neighbourhood\n",
    "            for k in range(i-(neighbours), i+(neighbours+1)):\n",
    "                for l in range(j-(neighbours), j+(neighbours+1)):\n",
    "                    \n",
    "                    #only if neighboorhoud exists\n",
    "#                   check if the neigbours are inside grid\n",
    "                    if k < 0 or k > (width-1) or l < 0 or l > (height-1):\n",
    "                        continue\n",
    "            \n",
    "                    else:\n",
    "                        '''zoek op in dict:\n",
    "                        ik ben zelf Matrix[i,j]\n",
    "                        ik kijk naar Matrix[k,l]\n",
    "                        ik kan worden loop [H, I, C] en update probabilitygrid\n",
    "                        Eet een koekje\n",
    "                        '''  \n",
    "                    \n",
    "#                       als degene waar je naar kijkt een huis is\n",
    "                        if matrix[k, l] != 0 and (k, l) != (i, j) and matrix[i, j] != 3:\n",
    "        \n",
    "#                           op basis van hoe ver het huis van je vandaan zit krijg je een score uit de mkd\n",
    "                            # Trans House potential\n",
    "    \n",
    "                            distance = round(np.sqrt((abs(i - k))**2 + (abs(l - j))**2), 1)\n",
    "                            index_distance = list_distances.index(distance)\n",
    "    \n",
    "    \n",
    "                            # kans op house worden, met wat we zelf zijn (matrix[i, j]) bepaald door plek waar we kijken en distance\n",
    "#                             print(mkd[int(matrix[i, j])][1][int(matrix[k, l])][distance])\n",
    "                            if matrix[i, j] != 2 and matrix[i, j] != 3:\n",
    "                                transH[i, j] += mkd[int(matrix[i, j])][1][int(matrix[k, l])-1][index_distance]\n",
    "            \n",
    "                            # Trans Industry potential\n",
    "                            if matrix[i, j] != 3:\n",
    "                                transI[i, j] += mkd[int(matrix[i, j])][2][int(matrix[k, l])-1][index_distance]\n",
    "                    \n",
    "                            # Trans Commerce potential\n",
    "                            transC[i, j] += mkd[int(matrix[i, j])][3][int(matrix[k, l])-1][index_distance]\n",
    "                            \n",
    "    for i in range(len(transH)):\n",
    "        for j in range(len(transH[0])):\n",
    "            S = 1 + (-np.log(random.random()))**(a)\n",
    "            transH[i, j] *= S\n",
    "            S = 1 + (-np.log(random.random()))**(a)\n",
    "            transI[i, j] *= S\n",
    "            S = 1 + (-np.log(random.random()))**(a)\n",
    "            transC[i, j] *= S\n",
    "            \n",
    "\n",
    "    return transH, transI, transC"
   ]
  },
  {
   "cell_type": "code",
   "execution_count": 3,
   "metadata": {},
   "outputs": [],
   "source": [
    "def simulate_growth(city, width, height, steps, Nh, a, mkd, n):\n",
    "    citiesovertime = []\n",
    "\n",
    "    for step in range(steps):\n",
    "        transH, transI, transC = loop_grid(city, mkd, a, width, height, n)\n",
    "\n",
    "        orderedhouses = transH.flatten().argsort()[::-1]\n",
    "        orderedindustry = transI.flatten().argsort()[::-1]\n",
    "        orderedcommerce = transC.flatten().argsort()[::-1]\n",
    "\n",
    "        newhouses = orderedhouses[0:round((((width*height)*Nh)/12)*7)]\n",
    "        for house in range(round((((width*height)*Nh)/12)*7)):\n",
    "            orderedhouses = np.delete(orderedhouses, house)\n",
    "\n",
    "        newindustry = orderedindustry[0:round((((width*height)*Nh)/12)*4)]\n",
    "        for ind in range(round((((width*height)*Nh)/12)*4)):\n",
    "            orderedindustry = np.delete(orderedindustry, ind)\n",
    "\n",
    "        newcommerce = orderedcommerce[0:round(((width*height)*Nh)/12)]\n",
    "        for com in range(round(((width*height)*Nh)/12)):\n",
    "            orderedcommerce = np.delete(orderedcommerce, com)\n",
    "\n",
    "        while len(set(newcommerce) & set(newindustry)) != 0:\n",
    "            for doubleindex in (set(newcommerce) & set(newindustry)):\n",
    "                if transI[doubleindex//width, doubleindex%height] > transC[doubleindex//width, doubleindex%height]:\n",
    "                    newcommerce = np.delete(newcommerce, np.where(newcommerce == doubleindex)[0])\n",
    "                    newcommerce = np.append(newcommerce, orderedcommerce[0])\n",
    "                    orderedcommerce = np.delete(orderedcommerce, 0)\n",
    "                else:\n",
    "                    newindustry = np.delete(newindustry, np.where(newindustry == doubleindex)[0])\n",
    "                    newindustry = np.append(newindustry, orderedindustry[0])\n",
    "                    orderedindustry = np.delete(orderedindustry, 0)\n",
    "\n",
    "        while len(set(newcommerce) & set(newhouses)) != 0:\n",
    "            for doubleindex in (set(newcommerce) & set(newhouses)):\n",
    "                if transH[doubleindex//width, doubleindex%height] > transC[doubleindex//width, doubleindex%height]:\n",
    "                    newcommerce = np.delete(newcommerce, np.where(newcommerce == doubleindex)[0])\n",
    "                    newcommerce = np.append(newcommerce, orderedcommerce[0])\n",
    "                    orderedcommerce = np.delete(orderedcommerce, 0)\n",
    "                else:\n",
    "                    newhouses = np.delete(newhouses, np.where(newhouses == doubleindex)[0])\n",
    "                    newhouses = np.append(newhouses, orderedhouses[0])\n",
    "                    orderedhouses = np.delete(orderedhouses, 0)\n",
    "\n",
    "        while len(set(newhouses) & set(newindustry)) != 0:\n",
    "            for doubleindex in (set(newhouses) & set(newindustry)):\n",
    "                if transI[doubleindex//width, doubleindex%height] > transH[doubleindex//width, doubleindex%height]:\n",
    "                    newhouses = np.delete(newhouses, np.where(newhouses == doubleindex)[0])\n",
    "                    newhouses = np.append(newhouses, orderedhouses[0])\n",
    "                    orderedhouses = np.delete(orderedhouses, 0)\n",
    "                else:\n",
    "                    newindustry = np.delete(newindustry, np.where(newindustry == doubleindex)[0])\n",
    "                    newindustry = np.append(newindustry, orderedindustry[0])\n",
    "                    orderedindustry = np.delete(orderedindustry, 0)\n",
    "\n",
    "\n",
    "        for com in newcommerce:\n",
    "            city[com//width, com%height] = 3\n",
    "\n",
    "        for indus in newindustry:\n",
    "            if city[indus//width, indus%height] != 3:\n",
    "                city[indus//width, indus%height] = 2\n",
    "\n",
    "        for house in newhouses:\n",
    "            if city[house//width, house%height] != 2 and city[house//width, house%height] != 3:\n",
    "                city[house//width, house%height] = 1\n",
    "\n",
    "        citiesovertime.append(copy.deepcopy(city))\n",
    "        \n",
    "#         plt.matshow(city, vmin = 0, vmax = 3, cmap = 'Greys')\n",
    "#         plt.title(\"Step %i\" %step)\n",
    "#         plt.colorbar()\n",
    "#         plt.show()\n",
    "        \n",
    "    return citiesovertime"
   ]
  },
  {
   "cell_type": "code",
   "execution_count": 4,
   "metadata": {},
   "outputs": [],
   "source": [
    "# V, H, I, C\n",
    "# 0, 1, 2, 3\n",
    "\n",
    "width = 200\n",
    "height = 200\n",
    "\n",
    "initialcity = np.zeros((width, height))\n",
    "\n",
    "steps = 25\n",
    "\n",
    "# initialcity[10, 10] = 1\n",
    "# initialcity[190, 190] = 1\n",
    "Nh = 0.01\n",
    "a = 1.5\n",
    "n = 4\n",
    "\n",
    "mkd = {0: {1: [[2,2,1.5,1.5,1,1,1,1,0.5,0.5,0.5,0.5,0.5,0.1,0.1,0.1,0.1,0.1,0,0,0,0,0,0,0,0], \n",
    "               [-10,-10,-5,-3,-1,0,0,0,0,0,0,0,0,0,0,0,0,0,0,0,0,0,0,0,0,0],\n",
    "               [-2,-1,2,1,1,1,0.5,0.5,0.4,0.3,0.2,0.1,0.1,0.1,0,0,0,0,0,0,0,0,0,0,0,0]], \n",
    "           2: [[-1,-1,0,0,0,0,0,0,0,0,0,0,0,0,0,0,0,0,0,0,0,0,0,0,0,0],\n",
    "               [3,3,2,1,0,0.2,0.2,0.2,0.2,0.2,0.2,0.2,0.2,0.2,0.2,0.2,0.2,0.2,0,0,0,0,0,0,0,0],\n",
    "               [0,0,0,0,0,0,0,0,0,0,0,0,0,0,0,0,0,0,0,0,0,0,0,0,0,0]], \n",
    "           3: [[4,3.5,3,2.5,2,2,2,1.5,1.5,1.5,1.5,1,1,1,1,1,1,1,0,0,0,0,0,0,0,0],\n",
    "               [0,0,0,0,0,0,0,0,0,0,0,0,0,0,0,0,0,0,0,0,0,0,0,0,0,0],\n",
    "               [25,25,25,-1,-1,-1,-1,-1,-1,-1,-1,-1,-1,-1,-1,-1,-1,-1,0,0,0,0,0,0,0,0]]}, \n",
    "       1: {1: [[0,0,0,0,0,0,0,0,0,0,0,0,0,0,0,0,0,0,0,0,0,0,0,0,0,0], \n",
    "               [0,0,0,0,0,0,0,0,0,0,0,0,0,0,0,0,0,0,0,0,0,0,0,0,0,0], \n",
    "               [0,0,0,0,0,0,0,0,0,0,0,0,0,0,0,0,0,0,0,0,0,0,0,0,0,0]], \n",
    "           2: [[-1,-1,0,0,0,0,0,0,0,0,0,0,0,0,0,0,0,0,0,0,0,0,0,0,0,0], \n",
    "               [2,2,2,0,0,0,0,0,0,0,0,0,0,0,0,0,0,0,0,0,0,0,0,0,0,0], \n",
    "               [1,1,0,0,0,0,0,0,0,0,0,0,0,0,0,0,0,0,0,0,0,0,0,0,0,0]], \n",
    "           3: [[4,3.5,3,2.5,2,2,2,1.5,1.5,1.5,1.5,1,1,1,1,1,1,1,0,0,0,0,0,0,0,0], \n",
    "               [1,1,1,0,0,0,0,0,0,0,0,0,0,0,0,0,0,0,0,0,0,0,0,0,0,0], \n",
    "               [25,25,25,-2,-2,-2,-2,-2,-2,-2,-2,-2,-2,-2,-2,-2,-2,-2,0,0,0,0,0,0,0,0]]},\n",
    "       2: {1: [[0,0,0,0,0,0,0,0,0,0,0,0,0,0,0,0,0,0,0,0,0,0,0,0,0,0], \n",
    "               [0,0,0,0,0,0,0,0,0,0,0,0,0,0,0,0,0,0,0,0,0,0,0,0,0,0], \n",
    "               [0,0,0,0,0,0,0,0,0,0,0,0,0,0,0,0,0,0,0,0,0,0,0,0,0,0]], \n",
    "           2: [[0,0,0,0,0,0,0,0,0,0,0,0,0,0,0,0,0,0,0,0,0,0,0,0,0,0],\n",
    "               [0,0,0,0,0,0,0,0,0,0,0,0,0,0,0,0,0,0,0,0,0,0,0,0,0,0], \n",
    "               [0,0,0,0,0,0,0,0,0,0,0,0,0,0,0,0,0,0,0,0,0,0,0,0,0,0]], \n",
    "           3: [[4,3.5,3,2.5,2,2,2,1.5,1.5,1.5,1.5,1,1,1,1,1,1,1,0,0,0,0,0,0,0,0], \n",
    "               [-2,-2,-2,0,0,0,0,0,0,0,0,0,0,0,0,0,0,0,0,0,0,0,0,0,0,0], \n",
    "               [25,25,25,-2,-2,-2,-2,-2,-2,-2,-2,-2,-2,-2,-2,-2,-2,-2,0,0,0,0,0,0,0,0]]}}\n",
    "\n",
    "citiesovertime = simulate_growth(initialcity, width, height, steps, Nh, a, mkd, n)\n",
    "\n"
   ]
  },
  {
   "cell_type": "code",
   "execution_count": 199,
   "metadata": {},
   "outputs": [
    {
     "name": "stdout",
     "output_type": "stream",
     "text": [
      "[[  0   0   0 ...   0   0   0]\n",
      " [  0   0   1 ...   0   0   0]\n",
      " [  0   1   1 ...   0   0   0]\n",
      " ...\n",
      " [  0   0   0 ...   0 384   0]\n",
      " [  0   0   0 ...   0   0   0]\n",
      " [  0   0   0 ...   0   0   0]]\n"
     ]
    },
    {
     "data": {
      "image/png": "[encoded data removed]",
      "text/plain": [
       "<Figure size 432x288 with 1 Axes>"
      ]
     },
     "metadata": {
      "needs_background": "light"
     },
     "output_type": "display_data"
    },
    {
     "name": "stdout",
     "output_type": "stream",
     "text": [
      "area: [630. 594. 541. 420. 395. 359. 340. 338. 303. 285. 240. 239. 224. 223.\n",
      " 217. 207. 199. 198. 184. 180. 167. 157. 143. 131. 127. 118. 115.  91.\n",
      "  88.  83.  72.  71.  68.  65.  59.  58.  56.  55.  55.  53.  53.  52.\n",
      "  47.  45.  44.  41.  34.  32.  31.  30.  29.  29.  29.  26.  25.  25.\n",
      "  21.]\n"
     ]
    },
    {
     "data": {
      "image/png": "[encoded data removed]",
      "text/plain": [
       "<Figure size 432x288 with 1 Axes>"
      ]
     },
     "metadata": {
      "needs_background": "light"
     },
     "output_type": "display_data"
    }
   ],
   "source": [
    "# from pylab import *\n",
    "from scipy.ndimage import measurements\n",
    "\n",
    "s = [[1,1,1],\n",
    "    [1,1,1],\n",
    "    [1,1,1]]\n",
    "\n",
    "testM = copy.deepcopy(citiesovertime[(steps - 1)])\n",
    "testM[testM == 3] = 1\n",
    "testM[testM == 2] = 1\n",
    "lw, num = measurements.label(testM, structure = s)\n",
    "print(lw)\n",
    "\n",
    "plt.imshow(lw)\n",
    "plt.show()\n",
    "\n",
    "area = measurements.sum(testM, lw, index=arange(lw.max() + 1))\n",
    "area = -np.sort(-area[area > 20])\n",
    "\n",
    "print(\"area:\", area)\n",
    "\n",
    "plt.scatter(log(range(1, len(area)+1)), log(area))\n",
    "\n",
    "# # plt.scatter(range(0, len(area)), sort(log(area)))\n",
    "# # plt.scatter(sort(log(area)), log(range(len(area), 0, -1)))\n",
    "# plt.scatter(range(len(area), 0, -1), sort(log(area)))\n",
    "# plt.show()\n",
    "\n",
    "# # plt.matshow(testM, vmin = 0, vmax = 3, cmap = 'Greys')\n",
    "# # plt.colorbar()\n",
    "plt.show()\n"
   ]
  },
  {
   "cell_type": "code",
   "execution_count": 27,
   "metadata": {},
   "outputs": [
    {
     "name": "stdout",
     "output_type": "stream",
     "text": [
      "[1, 2, 3, 4, 5, 6, 7, 8, 9, 10, 11, 12, 13, 14, 15, 16, 17, 18, 19, 20, 21, 22, 23, 24, 25, 26, 27, 28, 29, 30, 31, 32, 33, 34, 35, 36, 37, 38, 39]\n",
      "[39, 38, 37, 36, 35, 34, 33, 32, 31, 30, 29, 28, 27, 26, 25, 24, 23, 22, 21, 20, 19, 18, 17, 16, 15, 14, 13, 12, 11, 10, 9, 8, 7, 6, 5, 4, 3, 2, 1]\n"
     ]
    },
    {
     "ename": "AttributeError",
     "evalue": "'numpy.ndarray' object has no attribute 'reverse'",
     "output_type": "error",
     "traceback": [
      "\u001b[1;31m---------------------------------------------------------------------------\u001b[0m",
      "\u001b[1;31mAttributeError\u001b[0m                            Traceback (most recent call last)",
      "\u001b[1;32m<ipython-input-27-eef8cccbd950>\u001b[0m in \u001b[0;36m<module>\u001b[1;34m\u001b[0m\n\u001b[0;32m     59\u001b[0m \u001b[0msteps\u001b[0m \u001b[1;33m=\u001b[0m \u001b[1;36m25\u001b[0m\u001b[1;33m\u001b[0m\u001b[1;33m\u001b[0m\u001b[0m\n\u001b[0;32m     60\u001b[0m \u001b[0mm\u001b[0m \u001b[1;33m=\u001b[0m \u001b[0mcopy\u001b[0m\u001b[1;33m.\u001b[0m\u001b[0mdeepcopy\u001b[0m\u001b[1;33m(\u001b[0m\u001b[0mcitiesovertime\u001b[0m\u001b[1;33m[\u001b[0m\u001b[1;33m(\u001b[0m\u001b[0msteps\u001b[0m\u001b[1;33m-\u001b[0m\u001b[1;36m1\u001b[0m\u001b[1;33m)\u001b[0m\u001b[1;33m]\u001b[0m\u001b[1;33m)\u001b[0m\u001b[1;33m\u001b[0m\u001b[1;33m\u001b[0m\u001b[0m\n\u001b[1;32m---> 61\u001b[1;33m \u001b[0msize_distr\u001b[0m\u001b[1;33m(\u001b[0m\u001b[0mm\u001b[0m\u001b[1;33m)\u001b[0m\u001b[1;33m\u001b[0m\u001b[1;33m\u001b[0m\u001b[0m\n\u001b[0m\u001b[0;32m     62\u001b[0m \u001b[1;33m\u001b[0m\u001b[0m\n\u001b[0;32m     63\u001b[0m \u001b[0mplt\u001b[0m\u001b[1;33m.\u001b[0m\u001b[0mshow\u001b[0m\u001b[1;33m(\u001b[0m\u001b[1;33m)\u001b[0m\u001b[1;33m\u001b[0m\u001b[1;33m\u001b[0m\u001b[0m\n",
      "\u001b[1;32m<ipython-input-27-eef8cccbd950>\u001b[0m in \u001b[0;36msize_distr\u001b[1;34m(testM)\u001b[0m\n\u001b[0;32m     55\u001b[0m     \u001b[0mlinfit\u001b[0m \u001b[1;33m=\u001b[0m \u001b[0mnp\u001b[0m\u001b[1;33m.\u001b[0m\u001b[0mpolyfit\u001b[0m\u001b[1;33m(\u001b[0m\u001b[0mx\u001b[0m\u001b[1;33m,\u001b[0m \u001b[0my\u001b[0m\u001b[1;33m,\u001b[0m \u001b[1;36m1\u001b[0m\u001b[1;33m)\u001b[0m\u001b[1;33m\u001b[0m\u001b[1;33m\u001b[0m\u001b[0m\n\u001b[0;32m     56\u001b[0m \u001b[1;33m\u001b[0m\u001b[0m\n\u001b[1;32m---> 57\u001b[1;33m     \u001b[0mplt\u001b[0m\u001b[1;33m.\u001b[0m\u001b[0mplot\u001b[0m\u001b[1;33m(\u001b[0m\u001b[0mx\u001b[0m\u001b[1;33m,\u001b[0m \u001b[1;33m(\u001b[0m\u001b[0mlinfit\u001b[0m\u001b[1;33m[\u001b[0m\u001b[1;36m0\u001b[0m\u001b[1;33m]\u001b[0m\u001b[1;33m*\u001b[0m\u001b[0mx\u001b[0m \u001b[1;33m+\u001b[0m \u001b[0mlinfit\u001b[0m\u001b[1;33m[\u001b[0m\u001b[1;36m1\u001b[0m\u001b[1;33m]\u001b[0m\u001b[1;33m)\u001b[0m\u001b[1;33m.\u001b[0m\u001b[0mreverse\u001b[0m\u001b[1;33m(\u001b[0m\u001b[1;33m)\u001b[0m\u001b[1;33m)\u001b[0m\u001b[1;33m\u001b[0m\u001b[1;33m\u001b[0m\u001b[0m\n\u001b[0m\u001b[0;32m     58\u001b[0m \u001b[1;33m\u001b[0m\u001b[0m\n\u001b[0;32m     59\u001b[0m \u001b[0msteps\u001b[0m \u001b[1;33m=\u001b[0m \u001b[1;36m25\u001b[0m\u001b[1;33m\u001b[0m\u001b[1;33m\u001b[0m\u001b[0m\n",
      "\u001b[1;31mAttributeError\u001b[0m: 'numpy.ndarray' object has no attribute 'reverse'"
     ]
    },
    {
     "data": {
      "image/png": "[encoded data removed]",
      "text/plain": [
       "<Figure size 432x288 with 1 Axes>"
      ]
     },
     "metadata": {
      "needs_background": "light"
     },
     "output_type": "display_data"
    }
   ],
   "source": [
    "import math\n",
    "\n",
    "def size_distr(testM):\n",
    "    s = [[1,1,1],\n",
    "        [1,1,1],\n",
    "        [1,1,1]]\n",
    "\n",
    "#     testM = copy.deepcopy(citiesovertime[(steps - 1)])\n",
    "    testM[testM == 3] = 1\n",
    "    testM[testM == 2] = 1\n",
    "    lw, num = measurements.label(testM, structure = s)\n",
    "#     print(lw)\n",
    "\n",
    "    clusterdict = {}\n",
    "\n",
    "    for i in range(len(lw)):\n",
    "        for j in range(len(lw[0])):\n",
    "            if lw[i, j] in clusterdict:\n",
    "                clusterdict[lw[i, j]].append(citiesovertime[(steps - 1)][i, j])\n",
    "            else:\n",
    "                clusterdict[lw[i, j]] = [citiesovertime[(steps - 1)][i, j]]\n",
    "\n",
    "    removelist = []\n",
    "    for key, value in clusterdict.items():\n",
    "        if 1 in value:\n",
    "    #         if 2 in value:\n",
    "            if 3 in value:\n",
    "                continue\n",
    "            else:\n",
    "                removelist.append(key)\n",
    "    #         else:\n",
    "    #             removelist.append(key)\n",
    "        else:\n",
    "            removelist.append(key)\n",
    "\n",
    "    for key in removelist:\n",
    "        clusterdict.pop(key, None)\n",
    "\n",
    "    clustersizes = []\n",
    "    for key, value in clusterdict.items():\n",
    "        clustersizes.append(len(value))\n",
    "\n",
    "    \n",
    "    x = np.log(np.sort(clustersizes))\n",
    "    y = np.log(range(1, len(clustersizes) +1))\n",
    "#     y = np.flip(y)\n",
    "#     y = y[::-1]\n",
    "    print([x for x in range(1, len(clustersizes)+1)])\n",
    "    print([x for x in range(len(clustersizes), 0, -1)])\n",
    "\n",
    "    plt.scatter(x, y)\n",
    "    plt.xlabel('Log of population size')\n",
    "    plt.ylabel('Log of rank')\n",
    "    \n",
    "    linfit = np.polyfit(x, y, 1)\n",
    "    \n",
    "    plt.plot(x, np.flip(linfit[0]*x + linfit[1])))\n",
    "\n",
    "steps = 25\n",
    "m = copy.deepcopy(citiesovertime[(steps-1)])\n",
    "size_distr(m)\n",
    "    \n",
    "plt.show()"
   ]
  },
  {
   "cell_type": "code",
   "execution_count": 216,
   "metadata": {},
   "outputs": [
    {
     "name": "stdout",
     "output_type": "stream",
     "text": [
      "area: [662. 635. 584. 434. 413. 377. 368. 357. 318. 317. 254. 251. 249. 232.\n",
      " 232. 227. 215. 207. 196. 190. 171. 170. 156. 134. 132. 125. 122. 100.\n",
      "  92.  91.  78.  76.  74.  68.  64.  61.  58.  58.  58.  58.  58.  54.\n",
      "  48.  46.  46.  45.  39.  36.  34.  33.  33.  33.  33.  28.  27.  26.\n",
      "  22.  21.]\n",
      "-0.9929149998620768 7.7280279992080985 -0.9292982048551153 6.789090514326572e-26 0.05273243917560787\n"
     ]
    },
    {
     "name": "stderr",
     "output_type": "stream",
     "text": [
      "C:\\Users\\tessa\\Miniconda3\\lib\\site-packages\\ipykernel_launcher.py:28: RuntimeWarning: divide by zero encountered in log\n",
      "C:\\Users\\tessa\\Miniconda3\\lib\\site-packages\\ipykernel_launcher.py:31: RuntimeWarning: divide by zero encountered in log\n"
     ]
    },
    {
     "data": {
      "image/png": "[encoded data removed]",
      "text/plain": [
       "<Figure size 432x288 with 1 Axes>"
      ]
     },
     "metadata": {
      "needs_background": "light"
     },
     "output_type": "display_data"
    }
   ],
   "source": [
    "from scipy.ndimage import measurements\n",
    "\n",
    "s = [[1,1,1],\n",
    "     [1,1,1],\n",
    "     [1,1,1]]\n",
    "\n",
    "testM = copy.deepcopy(citiesovertime[(steps - 1)])\n",
    "testM[testM == 3] = 1\n",
    "testM[testM == 2] = 1\n",
    "\n",
    "for i in range(len(testM)):\n",
    "    for j in range(len(testM[0])):\n",
    "        if i > 0 and i < width-1 and j > 0 and j < height-1:\n",
    "            nbsum = (testM[i-1,j-1] + testM[i-1,j] + testM[i-1,j+1] + testM[i,j-1] + testM[i,j+1] + testM[i+1,j-1] + testM[i+1,j] + testM[i+1,j+1])\n",
    "            if nbsum > 5:\n",
    "                testM[i, j] = 1\n",
    "\n",
    "lw, num = measurements.label(testM, structure = s)\n",
    "\n",
    "area = measurements.sum(testM, lw, index=arange(lw.max() + 1))\n",
    "area = -np.sort(-area[area > 20])\n",
    "\n",
    "slope, intercept, r_value, p_value, std_err = stats.linregress(log(range(1, len(area)+1)), log(area))\n",
    "\n",
    "\n",
    "print(\"area:\", area)\n",
    "\n",
    "plt.scatter(log(range(0, len(area))), log(area))\n",
    "\n",
    "print(slope, intercept, r_value, p_value, std_err)\n",
    "plt.plot(log(range(0, len(area))), log(range(0, len(area))) * slope + log(area[0]))\n",
    "\n",
    "plt.show()"
   ]
  }
 ],
 "metadata": {
  "kernelspec": {
   "display_name": "Python 3",
   "language": "python",
   "name": "python3"
  },
  "language_info": {
   "codemirror_mode": {
    "name": "ipython",
    "version": 3
   },
   "file_extension": ".py",
   "mimetype": "text/x-python",
   "name": "python",
   "nbconvert_exporter": "python",
   "pygments_lexer": "ipython3",
   "version": "3.7.1"
  }
 },
 "nbformat": 4,
 "nbformat_minor": 2
}
