{
 "cells": [
  {
   "cell_type": "code",
   "execution_count": 1,
   "metadata": {},
   "outputs": [],
   "source": [
    "import numpy as np\n",
    "import matplotlib.pyplot as plt\n",
    "import random\n",
    "import copy"
   ]
  },
  {
   "cell_type": "code",
   "execution_count": 59,
   "metadata": {},
   "outputs": [],
   "source": [
    "def loop_grid(matrix, mkd, a):\n",
    "    \n",
    "    transpot = np.ones((50, 50))\n",
    "    \n",
    "    for i in range(len(matrix)):\n",
    "        for j in range(len(matrix[0])):\n",
    "            for k in range(i-3, i+4):\n",
    "                for l in range(j-3, j+4):\n",
    "                    if k < 0 or k > 49 or l < 0 or l > 49:\n",
    "                        continue\n",
    "                    else:\n",
    "                        if matrix[k, l] == 1 and (k, l) != (i, j):\n",
    "                            transpot[i, j] += mkd[abs(i - k) + abs(l - j) - 1]\n",
    "                            \n",
    "    for i in range(len(transpot)):\n",
    "        for j in range(len(transpot[0])):\n",
    "            S = 1 + (-np.log(random.random()))**(a)\n",
    "            transpot[i, j] *= S\n",
    "                            \n",
    "    return transpot\n",
    "                "
   ]
  },
  {
   "cell_type": "code",
   "execution_count": 62,
   "metadata": {
    "scrolled": true
   },
   "outputs": [
    {
     "data": {
      "image/png": "[encoded data removed]",
      "text/plain": [
       "<Figure size 288x288 with 2 Axes>"
      ]
     },
     "metadata": {
      "needs_background": "light"
     },
     "output_type": "display_data"
    },
    {
     "data": {
      "image/png": "[encoded data removed]",
      "text/plain": [
       "<Figure size 288x288 with 1 Axes>"
      ]
     },
     "metadata": {
      "needs_background": "light"
     },
     "output_type": "display_data"
    }
   ],
   "source": [
    "width = 50\n",
    "height = 50\n",
    "\n",
    "city = np.zeros((width, height))\n",
    "\n",
    "steps = 20\n",
    "\n",
    "city[25, 25] = 1\n",
    "\n",
    "Nh = 0.05\n",
    "a = 2.5\n",
    "mkd = [2, 2, 1.5, 1.5, 1, 1, 1]\n",
    "\n",
    "for step in range(steps):\n",
    "    trans1 = loop_grid(city, mkd, a)\n",
    "\n",
    "    newhouses = trans1.flatten().argsort()[-int((width*height)*Nh):][::-1]\n",
    "\n",
    "    for house in newhouses:\n",
    "        city[house//width, house%height] = 1\n",
    "\n",
    "plt.matshow(trans1, cmap = 'Purples')\n",
    "plt.colorbar()\n",
    "\n",
    "plt.matshow(city, vmin = 0, vmax = 1, cmap = 'Greys')\n",
    "plt.show()"
   ]
  },
  {
   "cell_type": "code",
   "execution_count": null,
   "metadata": {},
   "outputs": [],
   "source": [
    "def loop_grid(matrix, mkd, a):\n",
    "    \n",
    "    transpot = [np.ones((50, 50))]\n",
    "    \n",
    "    for g in range(len(mkd)):\n",
    "        for \n",
    "            for i in range(len(matrix)):\n",
    "                for j in range(len(matrix[0])):\n",
    "                    for k in range(i-3, i+4):\n",
    "                        for l in range(j-3, j+4):\n",
    "                            if k < 0 or k > 49 or l < 0 or l > 49:\n",
    "                                continue\n",
    "                            else:\n",
    "                                if matrix[k, l] == 1 and (k, l) != (i, j):\n",
    "                            transpot[i, j] += mkd[abs(i - k) + abs(l - j) - 1]\n",
    "                            \n",
    "    for i in range(len(transpot)):\n",
    "        for j in range(len(transpot[0])):\n",
    "            S = 1 + (-np.log(random.random()))**(a)\n",
    "            transpot[i, j] *= S\n",
    "                            \n",
    "    return transpot"
   ]
  },
  {
   "cell_type": "code",
   "execution_count": 57,
   "metadata": {},
   "outputs": [
    {
     "ename": "KeyError",
     "evalue": "5",
     "output_type": "error",
     "traceback": [
      "\u001b[1;31m---------------------------------------------------------------------------\u001b[0m",
      "\u001b[1;31mKeyError\u001b[0m                                  Traceback (most recent call last)",
      "\u001b[1;32m<ipython-input-57-192651e3a666>\u001b[0m in \u001b[0;36m<module>\u001b[1;34m\u001b[0m\n\u001b[0;32m     10\u001b[0m \u001b[1;33m\u001b[0m\u001b[0m\n\u001b[0;32m     11\u001b[0m \u001b[1;32mfor\u001b[0m \u001b[0mstep\u001b[0m \u001b[1;32min\u001b[0m \u001b[0mrange\u001b[0m\u001b[1;33m(\u001b[0m\u001b[0msteps\u001b[0m\u001b[1;33m)\u001b[0m\u001b[1;33m:\u001b[0m\u001b[1;33m\u001b[0m\u001b[1;33m\u001b[0m\u001b[0m\n\u001b[1;32m---> 12\u001b[1;33m     \u001b[0mtrans1\u001b[0m \u001b[1;33m=\u001b[0m \u001b[0mloop_grid\u001b[0m\u001b[1;33m(\u001b[0m\u001b[0mcity\u001b[0m\u001b[1;33m,\u001b[0m \u001b[0mmkd\u001b[0m\u001b[1;33m,\u001b[0m \u001b[0ma\u001b[0m\u001b[1;33m)\u001b[0m\u001b[1;33m\u001b[0m\u001b[1;33m\u001b[0m\u001b[0m\n\u001b[0m\u001b[0;32m     13\u001b[0m \u001b[1;33m\u001b[0m\u001b[0m\n\u001b[0;32m     14\u001b[0m     \u001b[0mnewhouses\u001b[0m \u001b[1;33m=\u001b[0m \u001b[0mtrans1\u001b[0m\u001b[1;33m.\u001b[0m\u001b[0mflatten\u001b[0m\u001b[1;33m(\u001b[0m\u001b[1;33m)\u001b[0m\u001b[1;33m.\u001b[0m\u001b[0margsort\u001b[0m\u001b[1;33m(\u001b[0m\u001b[1;33m)\u001b[0m\u001b[1;33m[\u001b[0m\u001b[1;33m-\u001b[0m\u001b[0mint\u001b[0m\u001b[1;33m(\u001b[0m\u001b[1;36m50\u001b[0m\u001b[1;33m*\u001b[0m\u001b[1;36m50\u001b[0m\u001b[1;33m*\u001b[0m\u001b[0mNh\u001b[0m\u001b[1;33m)\u001b[0m\u001b[1;33m:\u001b[0m\u001b[1;33m]\u001b[0m\u001b[1;33m[\u001b[0m\u001b[1;33m:\u001b[0m\u001b[1;33m:\u001b[0m\u001b[1;33m-\u001b[0m\u001b[1;36m1\u001b[0m\u001b[1;33m]\u001b[0m\u001b[1;33m\u001b[0m\u001b[1;33m\u001b[0m\u001b[0m\n",
      "\u001b[1;32m<ipython-input-40-a433f7ddaf31>\u001b[0m in \u001b[0;36mloop_grid\u001b[1;34m(matrix, mkd, a)\u001b[0m\n\u001b[0;32m     11\u001b[0m                     \u001b[1;32melse\u001b[0m\u001b[1;33m:\u001b[0m\u001b[1;33m\u001b[0m\u001b[1;33m\u001b[0m\u001b[0m\n\u001b[0;32m     12\u001b[0m                         \u001b[1;32mif\u001b[0m \u001b[0mmatrix\u001b[0m\u001b[1;33m[\u001b[0m\u001b[0mk\u001b[0m\u001b[1;33m,\u001b[0m \u001b[0ml\u001b[0m\u001b[1;33m]\u001b[0m \u001b[1;33m==\u001b[0m \u001b[1;36m1\u001b[0m \u001b[1;32mand\u001b[0m \u001b[1;33m(\u001b[0m\u001b[0mk\u001b[0m\u001b[1;33m,\u001b[0m \u001b[0ml\u001b[0m\u001b[1;33m)\u001b[0m \u001b[1;33m!=\u001b[0m \u001b[1;33m(\u001b[0m\u001b[0mi\u001b[0m\u001b[1;33m,\u001b[0m \u001b[0mj\u001b[0m\u001b[1;33m)\u001b[0m\u001b[1;33m:\u001b[0m\u001b[1;33m\u001b[0m\u001b[1;33m\u001b[0m\u001b[0m\n\u001b[1;32m---> 13\u001b[1;33m                             \u001b[0mtranspot\u001b[0m\u001b[1;33m[\u001b[0m\u001b[0mi\u001b[0m\u001b[1;33m,\u001b[0m \u001b[0mj\u001b[0m\u001b[1;33m]\u001b[0m \u001b[1;33m+=\u001b[0m \u001b[0mmkd\u001b[0m\u001b[1;33m[\u001b[0m\u001b[0mabs\u001b[0m\u001b[1;33m(\u001b[0m\u001b[0mi\u001b[0m \u001b[1;33m-\u001b[0m \u001b[0mk\u001b[0m\u001b[1;33m)\u001b[0m \u001b[1;33m+\u001b[0m \u001b[0mabs\u001b[0m\u001b[1;33m(\u001b[0m\u001b[0ml\u001b[0m \u001b[1;33m-\u001b[0m \u001b[0mj\u001b[0m\u001b[1;33m)\u001b[0m \u001b[1;33m-\u001b[0m \u001b[1;36m1\u001b[0m\u001b[1;33m]\u001b[0m\u001b[1;33m\u001b[0m\u001b[1;33m\u001b[0m\u001b[0m\n\u001b[0m\u001b[0;32m     14\u001b[0m \u001b[1;33m\u001b[0m\u001b[0m\n\u001b[0;32m     15\u001b[0m     \u001b[1;32mfor\u001b[0m \u001b[0mi\u001b[0m \u001b[1;32min\u001b[0m \u001b[0mrange\u001b[0m\u001b[1;33m(\u001b[0m\u001b[0mlen\u001b[0m\u001b[1;33m(\u001b[0m\u001b[0mtranspot\u001b[0m\u001b[1;33m)\u001b[0m\u001b[1;33m)\u001b[0m\u001b[1;33m:\u001b[0m\u001b[1;33m\u001b[0m\u001b[1;33m\u001b[0m\u001b[0m\n",
      "\u001b[1;31mKeyError\u001b[0m: 5"
     ]
    }
   ],
   "source": [
    "city = np.zeros((50, 50))\n",
    "\n",
    "steps = 300\n",
    "\n",
    "city[25, 25] = 1\n",
    "\n",
    "Nh = 0.05\n",
    "a = 2.5\n",
    "mkd = {1:{1: [2, 2, 1.5, 1.5, 1, 1, 1]}}\n",
    "\n",
    "for step in range(steps):\n",
    "    trans1 = loop_grid(city, mkd, a)\n",
    "\n",
    "    newhouses = trans1.flatten().argsort()[-int(50*50*Nh):][::-1]\n",
    "\n",
    "    for house in newhouses:\n",
    "        city[house//50, house%50] = 1\n",
    "\n",
    "plt.matshow(trans1, cmap = 'Purples')\n",
    "plt.colorbar()\n",
    "\n",
    "plt.matshow(city, vmin = 0, vmax = 1, cmap = 'Greys')\n",
    "plt.show()"
   ]
  }
 ],
 "metadata": {
  "kernelspec": {
   "display_name": "Python 3",
   "language": "python",
   "name": "python3"
  },
  "language_info": {
   "codemirror_mode": {
    "name": "ipython",
    "version": 3
   },
   "file_extension": ".py",
   "mimetype": "text/x-python",
   "name": "python",
   "nbconvert_exporter": "python",
   "pygments_lexer": "ipython3",
   "version": "3.7.1"
  }
 },
 "nbformat": 4,
 "nbformat_minor": 2
}
