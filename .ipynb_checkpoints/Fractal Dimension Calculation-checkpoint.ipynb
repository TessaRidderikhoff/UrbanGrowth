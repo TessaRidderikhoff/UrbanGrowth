{
 "cells": [
  {
   "cell_type": "code",
   "execution_count": 3,
   "metadata": {},
   "outputs": [
    {
     "name": "stdout",
     "output_type": "stream",
     "text": [
      "[[0. 0. 0. 0. 0. 0. 0. 0. 0. 0. 0. 0. 0. 0. 0. 0. 0. 0. 0. 0.]\n",
      " [0. 0. 0. 0. 0. 0. 0. 0. 0. 0. 0. 0. 0. 0. 0. 0. 0. 0. 0. 0.]\n",
      " [0. 0. 0. 0. 0. 0. 0. 0. 0. 0. 0. 0. 0. 0. 0. 0. 0. 0. 0. 0.]\n",
      " [0. 0. 0. 0. 0. 0. 0. 0. 0. 0. 0. 0. 0. 0. 0. 0. 0. 0. 0. 0.]\n",
      " [0. 0. 0. 0. 0. 0. 0. 0. 0. 0. 0. 0. 0. 0. 0. 0. 0. 0. 0. 0.]\n",
      " [0. 0. 0. 0. 0. 0. 0. 0. 0. 0. 0. 0. 0. 0. 0. 0. 0. 0. 0. 0.]\n",
      " [0. 0. 0. 0. 0. 0. 0. 0. 0. 0. 0. 0. 0. 0. 0. 0. 0. 0. 0. 0.]\n",
      " [0. 0. 0. 0. 1. 1. 1. 1. 1. 0. 0. 0. 0. 0. 0. 0. 0. 0. 0. 0.]\n",
      " [0. 0. 0. 0. 0. 0. 0. 0. 1. 0. 0. 0. 0. 0. 0. 0. 0. 0. 0. 0.]\n",
      " [0. 0. 0. 0. 0. 0. 0. 0. 1. 1. 1. 0. 0. 0. 0. 0. 0. 0. 0. 0.]\n",
      " [0. 0. 0. 0. 0. 0. 0. 0. 0. 1. 1. 1. 1. 0. 0. 0. 0. 0. 0. 0.]\n",
      " [0. 0. 0. 0. 0. 0. 0. 0. 0. 0. 0. 1. 1. 0. 0. 0. 0. 0. 0. 0.]\n",
      " [0. 0. 0. 0. 0. 0. 0. 0. 0. 0. 0. 0. 0. 0. 0. 0. 0. 0. 0. 0.]\n",
      " [0. 0. 0. 0. 0. 0. 0. 0. 0. 0. 0. 0. 0. 0. 0. 0. 0. 0. 0. 0.]\n",
      " [0. 0. 0. 0. 0. 0. 0. 0. 0. 0. 0. 0. 0. 0. 0. 0. 0. 0. 0. 0.]\n",
      " [0. 0. 0. 0. 0. 0. 0. 0. 0. 0. 0. 0. 0. 0. 0. 0. 0. 0. 0. 0.]\n",
      " [0. 0. 0. 0. 0. 0. 0. 0. 0. 0. 0. 0. 0. 0. 0. 0. 0. 0. 0. 0.]\n",
      " [0. 0. 0. 0. 0. 0. 0. 0. 0. 0. 0. 0. 0. 0. 0. 0. 0. 0. 0. 0.]\n",
      " [0. 0. 0. 0. 0. 0. 0. 0. 0. 0. 0. 0. 0. 0. 0. 0. 0. 0. 0. 0.]\n",
      " [0. 0. 0. 0. 0. 0. 0. 0. 0. 0. 0. 0. 0. 0. 0. 0. 0. 0. 0. 0.]]\n",
      "2\n",
      "4\n",
      "6\n",
      "8\n",
      "10\n",
      "12\n",
      "14\n",
      "16\n",
      "18\n",
      "[1.0, 2.0, 3.0, 4.0, 5.0, 6.0]\n",
      "[4, 8, 12, 13, 14, 15]\n",
      "[0.0, 0.3010299956639812, 0.47712125471966244, 0.6020599913279624, 0.6989700043360189, 0.7781512503836436]\n",
      "[0.6020599913279624, 0.9030899869919435, 1.0791812460476249, 1.1139433523068367, 1.146128035678238, 1.1760912590556813]\n"
     ]
    },
    {
     "data": {
      "image/png": "[encoded data removed]",
      "text/plain": [
       "<Figure size 432x288 with 1 Axes>"
      ]
     },
     "metadata": {
      "needs_background": "light"
     },
     "output_type": "display_data"
    },
    {
     "name": "stdout",
     "output_type": "stream",
     "text": [
      "0.7404415130152151\n"
     ]
    }
   ],
   "source": [
    "\"\"\"\n",
    "Code die de fractal dimension (of radial dimension) bepaalt van een matrix M\n",
    "Verbeterpunten: \n",
    "-code bekijkt nu telkens naar vierkanten, cirkels is mis beter\n",
    "-code maakt nu alleen onderscheid tussen 'vacant' en 'niet vacant', maar nog niet tussen de verschillende soorten bebouwing \n",
    "(commerce, industrie, huizen)\n",
    "\"\"\"\n",
    "\n",
    "\n",
    "import numpy as np\n",
    "import math\n",
    "import matplotlib.pyplot as plt\n",
    "\n",
    "N = 20\n",
    "M = np.zeros((N, N))\n",
    "\n",
    "M[7, 4] = 1\n",
    "M[7, 5] = 1\n",
    "M[7, 6] = 1\n",
    "M[7, 7] = 1\n",
    "M[7, 8] = 1\n",
    "M[8, 8] = 1\n",
    "M[9, 8] = 1\n",
    "M[9, 9] = 1\n",
    "M[9, 10] = 1\n",
    "M[10, 9] = 1\n",
    "M[10, 10] = 1\n",
    "M[10, 11] = 1\n",
    "M[10, 12] = 1\n",
    "M[11, 11] = 1\n",
    "M[11, 12] = 1\n",
    "print(M)\n",
    "\n",
    "list_radius = []\n",
    "list_number_occupied_cells = []\n",
    "\n",
    "# Bekijk telkens een vierkant gebied en tel het aantal bezette cellen\n",
    "# Elke tijdstap neemt de grootte van het gebied toe\n",
    "# radius is hier de halve lengte van het vierkant waar je naar kijkt\n",
    "for length in range(2, N, 2):\n",
    "    print(length)\n",
    "    radius = length/2\n",
    "    left_index = math.ceil((N-length)/2)\n",
    "    right_index = left_index + length - 1\n",
    "    number_occupied_cells = 0\n",
    "    for i in range(left_index, right_index+1):\n",
    "        for j in range(left_index, right_index+1):\n",
    "            if M[i, j] != 0:\n",
    "                number_occupied_cells += 1\n",
    "    \n",
    "    # Vergelijk het aantal bezette cellen van de huidige tijdstap met het aantal bezette cellen van de vorige tijdstap\n",
    "    # Als ze niet gelijk zijn -> voeg waardes (radius, aantal bezette cellen) toe aan de lijsten\n",
    "    if len(list_number_occupied_cells) == 0:\n",
    "        list_radius.append(radius)\n",
    "        list_number_occupied_cells.append(number_occupied_cells)\n",
    "    else:\n",
    "        if number_occupied_cells != list_number_occupied_cells[-1]:\n",
    "            list_radius.append(radius)\n",
    "            list_number_occupied_cells.append(number_occupied_cells)\n",
    "            \n",
    "print(list_radius)\n",
    "print(list_number_occupied_cells)\n",
    "\n",
    "# Neem de log waardes van de radius en het aantal bezette cellen\n",
    "list_radius_log = [math.log10(i) for i in list_radius]\n",
    "list_number_occupied_cells_log = [math.log10(i) for i in list_number_occupied_cells]\n",
    "\n",
    "print(list_radius_log)\n",
    "print(list_number_occupied_cells_log)\n",
    "\n",
    "# Linear regression\n",
    "from scipy import stats\n",
    "slope, intercept, r_value, p_value, std_err = stats.linregress(list_radius_log, list_number_occupied_cells_log)\n",
    "list_fitted_data = [slope * i + intercept for i in list_radius_log]\n",
    "\n",
    "# Plot data\n",
    "plt.plot(list_radius_log, list_number_occupied_cells_log, 'ko')\n",
    "plt.plot(list_radius_log, list_fitted_data)\n",
    "plt.xlabel(\"log(r)\")\n",
    "plt.ylabel(\"log(Bt)\")\n",
    "plt.show()\n",
    "\n",
    "# Fractal dimension (of radial dimension) is gelijk aan de helling van de gefitte curve\n",
    "fractal_dimension = slope\n",
    "print(fractal_dimension)\n"
   ]
  }
 ],
 "metadata": {
  "kernelspec": {
   "display_name": "Python 3",
   "language": "python",
   "name": "python3"
  },
  "language_info": {
   "codemirror_mode": {
    "name": "ipython",
    "version": 3
   },
   "file_extension": ".py",
   "mimetype": "text/x-python",
   "name": "python",
   "nbconvert_exporter": "python",
   "pygments_lexer": "ipython3",
   "version": "3.7.1"
  }
 },
 "nbformat": 4,
 "nbformat_minor": 2
}
