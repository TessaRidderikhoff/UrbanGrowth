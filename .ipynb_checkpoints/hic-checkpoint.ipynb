{
 "cells": [
  {
   "cell_type": "code",
   "execution_count": 1,
   "metadata": {},
   "outputs": [],
   "source": [
    "import numpy as np\n",
    "import matplotlib.pyplot as plt\n",
    "import random\n",
    "import copy"
   ]
  },
  {
   "cell_type": "code",
   "execution_count": 66,
   "metadata": {},
   "outputs": [],
   "source": [
    "def loop_grid(matrix, mkd, a):\n",
    "    \n",
    "    # protential grid\n",
    "    transH = np.ones((50,50))\n",
    "    transI = np.ones((50,50))\n",
    "    transC = np.ones((50,50))\n",
    "    \n",
    "    #i,j current house grid\n",
    "    for i in range(len(matrix)):\n",
    "        for j in range(len(matrix[0])):\n",
    "            # k,l is neighbourhood\n",
    "            for k in range(i-3, i+4):\n",
    "                for l in range(j-3, j+4):\n",
    "                    \n",
    "                    #only if neighboorhoud exists\n",
    "#                   check if the neigbours are inside grid\n",
    "                    if k < 0 or k > 49 or l < 0 or l > 49:\n",
    "                        continue\n",
    "            \n",
    "                    else:\n",
    "                        '''zoek op in dict:\n",
    "                        ik ben zelf Matrix[i,j]\n",
    "                        ik kijk naar Matrix[k,l]\n",
    "                        ik kan worden loop [H, I, C] en update probabilitygrid\n",
    "                        Eet een koekje\n",
    "                        '''  \n",
    "                    \n",
    "#                       als degene waar je naar kijkt een huis is\n",
    "                        if matrix[k, l] == 1 and (k, l) != (i, j) and matrix[i, j] != 3:\n",
    "        \n",
    "#                           op basis van hoe ver het huis van je vandaan zit krijg je een score uit de mkd\n",
    "                            # Trans House potential\n",
    "    \n",
    "                            distance = abs(i - k) + abs(l - j) - 1\n",
    "    \n",
    "                            # kans op house worden, met wat we zelf zijn (matrix[i, j]) bepaald door plek waar we kijken en distance\n",
    "#                             print(mkd[int(matrix[i, j])][1][int(matrix[k, l])][distance])\n",
    "                            transH[i, j] += mkd[int(matrix[i, j])][1][int(matrix[k, l])-1][distance]\n",
    "            \n",
    "                            # Trans Industry potential\n",
    "                \n",
    "                            transI[i, j] += mkd[int(matrix[i, j])][2][int(matrix[k, l])-1][distance]\n",
    "                    \n",
    "                            # Trans Commerce potential\n",
    "                \n",
    "                            transC[i, j] += mkd[int(matrix[i, j])][3][int(matrix[k, l])-1][distance]\n",
    "                            \n",
    "    for i in range(len(transH)):\n",
    "        for j in range(len(transH[0])):\n",
    "            S = 1 + (-np.log(random.random()))**(a)\n",
    "            transH[i, j] *= S\n",
    "#             S = 1 + (-np.log(random.random()))**(a)\n",
    "            transI[i, j] *= S\n",
    "#             S = 1 + (-np.log(random.random()))**(a)\n",
    "            transC[i, j] *= S\n",
    "            \n",
    "\n",
    "    return transH, transI, transC"
   ]
  },
  {
   "cell_type": "code",
   "execution_count": 79,
   "metadata": {
    "scrolled": false
   },
   "outputs": [],
   "source": [
    "# V, H, I, C\n",
    "# 0, 1, 2, 3\n",
    "\n",
    "width = 50\n",
    "height = 50\n",
    "\n",
    "city = np.zeros((width, height))\n",
    "\n",
    "steps = 25\n",
    "\n",
    "city[25, 25] = 1\n",
    "\n",
    "Nh = 0.05\n",
    "a = 2.5\n",
    "\n",
    "mkd = {0: {1: [[2,2,1.5,1.5,1,1,1], [-10,-10,-5,-3,-1,0,0],[-2,-1,2,1,1,1,0.5]], 2: [[-1,-1,0,0,0,0,0],[3,3,2,1,0,0.2,0.2],[0,0,0,0,0,0,0]], 3: [[4,3.5,3,2.5,2,2,2],[0,0,0,0,0,0,0],[25,25,25,-1,-1,-1,-1]]}, \n",
    "       1: {1: [[0,0,0,0,0,0,0], [0,0,0,0,0,0,0], [0,0,0,0,0,0,0]], 2: [[-1,-1,0,0,0,0,0], [2,2,2,0,0,0,0], [1,1,0,0,0,0,0]], 3: [[4,3.5,3,2.5,2,2,2], [1,1,1,0,0,0,0], [25,25,25,-2,-2,-2,-2]]},\n",
    "       2: {1: [[0,0,0,0,0,0,0], [0,0,0,0,0,0,0], [0,0,0,0,0,0,0]], 2: [[0,0,0,0,0,0,0], [0,0,0,0,0,0,0], [0,0,0,0,0,0,0]], 3: [[4,3.5,3,2.5,2,2,2], [-2,-2,-2,0,0,0,0], [25,25,25,-2,-2,-2,-2]]}}\n",
    "\n",
    "for step in range(steps):\n",
    "    transH, transI, transC = loop_grid(city, mkd, a)\n",
    "\n",
    "    newhouses = transH.flatten().argsort()[-round((((width*height)*Nh)/(12))*7):][::-1]\n",
    "    newindustry = transI.flatten().argsort()[-round((((width*height)*Nh)/(12))*4):][::-1]\n",
    "    newcommerce = transC.flatten().argsort()[-round((((width*height)*Nh)/(12))*1):][::-1]\n",
    "\n",
    "    for com in newcommerce:\n",
    "        city[com//width, com%height] = 3\n",
    "        \n",
    "    for indus in newindustry:\n",
    "        city[indus//width, indus%height] = 2\n",
    "    \n",
    "    for house in newhouses:\n",
    "        city[house//width, house%height] = 1\n",
    "\n"
   ]
  },
  {
   "cell_type": "code",
   "execution_count": 80,
   "metadata": {},
   "outputs": [
    {
     "data": {
      "image/png": "[encoded data removed]",
      "text/plain": [
       "<Figure size 288x288 with 2 Axes>"
      ]
     },
     "metadata": {
      "needs_background": "light"
     },
     "output_type": "display_data"
    },
    {
     "data": {
      "image/png": "[encoded data removed]",
      "text/plain": [
       "<Figure size 288x288 with 2 Axes>"
      ]
     },
     "metadata": {
      "needs_background": "light"
     },
     "output_type": "display_data"
    }
   ],
   "source": [
    "plt.matshow(transH, cmap = 'Purples')\n",
    "plt.colorbar()\n",
    "\n",
    "plt.matshow(city, cmap = 'Greys')\n",
    "plt.colorbar()\n",
    "plt.show()"
   ]
  },
  {
   "cell_type": "code",
   "execution_count": 20,
   "metadata": {},
   "outputs": [
    {
     "data": {
      "text/plain": [
       "-10"
      ]
     },
     "execution_count": 20,
     "metadata": {},
     "output_type": "execute_result"
    }
   ],
   "source": [
    "mkd[0][1][1][0]"
   ]
  }
 ],
 "metadata": {
  "kernelspec": {
   "display_name": "Python 3",
   "language": "python",
   "name": "python3"
  },
  "language_info": {
   "codemirror_mode": {
    "name": "ipython",
    "version": 3
   },
   "file_extension": ".py",
   "mimetype": "text/x-python",
   "name": "python",
   "nbconvert_exporter": "python",
   "pygments_lexer": "ipython3",
   "version": "3.7.1"
  }
 },
 "nbformat": 4,
 "nbformat_minor": 2
}
